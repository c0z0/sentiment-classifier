{
 "cells": [
  {
   "cell_type": "code",
   "execution_count": null,
   "metadata": {
    "collapsed": true
   },
   "outputs": [],
   "source": [
    "#Dataset class\n",
    "\n",
    "import pandas as pd\n",
    "import numpy as np\n",
    "from keras.preprocessing import text, sequence\n",
    "\n",
    "vocab_size = 20000\n",
    "\n",
    "\n",
    "class SentimentData():\n",
    "    def __init__(self, train_file, test_file, max_len=100):\n",
    "        print(\"Reading files...\")\n",
    "        self.train = pd.read_csv(train_file, sep='\\t')\n",
    "        self.test = pd.read_csv(test_file, sep='\\t')\n",
    "        one_hot = pd.get_dummies(self.train['Sentiment'], prefix='sentiment')\n",
    "\n",
    "        self.train = self.train.join(one_hot)\n",
    "        \n",
    "        self.train_phrases = self.train[\"Phrase\"].fillna(\"EMPTY\").values\n",
    "        self.test_phrases = self.test[\"Phrase\"].fillna(\"EMPTY\").values\n",
    "\n",
    "        self.classes_names = [\"sentiment_0\", \"sentiment_1\", \"sentiment_2\", \"sentiment_3\", \"sentiment_4\"]\n",
    "        \n",
    "        self.y = np.array(self.train[self.classes_names].values)\n",
    "        \n",
    "        self.tokenizer = text.Tokenizer(num_words=vocab_size)\n",
    "        self.tokenizer.fit_on_texts(list(self.train_phrases))\n",
    "\n",
    "        print(\"Tokenizing train set...\")\n",
    "        self.x = np.array(self.tokenizer.texts_to_sequences(self.train_phrases))\n",
    "        \n",
    "        print(\"Tokenizing test set...\")\n",
    "        self.train_x = np.array(self.tokenizer.texts_to_sequences(self.test_phrases))\n",
    "    \n",
    "        print(\"Padding sequences...\")\n",
    "        self.x = np.array(sequence.pad_sequences(self.x, maxlen=max_len))\n",
    "        self.train_x = np.array(sequence.pad_sequences(self.train_x, maxlen=max_len))"
   ]
  },
  {
   "cell_type": "code",
   "execution_count": null,
   "metadata": {},
   "outputs": [],
   "source": [
    "data = SentimentData('./train.tsv', './test.tsv')"
   ]
  },
  {
   "cell_type": "code",
   "execution_count": null,
   "metadata": {
    "collapsed": true
   },
   "outputs": [],
   "source": [
    "from keras.models import Sequential\n",
    "from keras.callbacks import TensorBoard\n",
    "from keras.layers import Dense, Dropout, LSTM, Embedding, GlobalMaxPool1D, Bidirectional\n",
    "\n",
    "def init_model():\n",
    "    model = Sequential([\n",
    "        Embedding(vocab_size, 128, input_shape=(100,)),\n",
    "        Bidirectional(LSTM(50, return_sequences=True)),\n",
    "        GlobalMaxPool1D(),\n",
    "        Dropout(.1),\n",
    "        Dense(50, activation=\"relu\"),\n",
    "        Dropout(.1),\n",
    "        Dense(5, activation=\"softmax\"),\n",
    "    ])\n",
    "    model.compile(loss='binary_crossentropy',\n",
    "                  optimizer='adam',\n",
    "                  metrics=['accuracy'])\n",
    "    \n",
    "    return model\n"
   ]
  },
  {
   "cell_type": "code",
   "execution_count": null,
   "metadata": {},
   "outputs": [],
   "source": [
    "from keras.callbacks import EarlyStopping, ModelCheckpoint\n",
    "\n",
    "early_callback = EarlyStopping(monitor='acc', min_delta=0.001, patience=1)\n",
    "save_callback = ModelCheckpoint('./sentiment.model', save_best_only=True, monitor='acc', save_weights_only=True)\n",
    "\n",
    "\n",
    "model = init_model()\n",
    "\n",
    "model.fit(data.x, data.y, batch_size=32, epochs=1000, validation_split=0.1, callbacks=[early_callback, save_callback])"
   ]
  },
  {
   "cell_type": "code",
   "execution_count": null,
   "metadata": {
    "collapsed": true
   },
   "outputs": [],
   "source": [
    "#Save tokenizer\n",
    "\n",
    "import pickle\n",
    "\n",
    "with open('tok.pckl', 'wb') as f:\n",
    "    pickle.dump(data.tok, f)"
   ]
  }
 ],
 "metadata": {
  "kernelspec": {
   "display_name": "Python 3",
   "language": "python",
   "name": "python3"
  },
  "language_info": {
   "codemirror_mode": {
    "name": "ipython",
    "version": 3
   },
   "file_extension": ".py",
   "mimetype": "text/x-python",
   "name": "python",
   "nbconvert_exporter": "python",
   "pygments_lexer": "ipython3",
   "version": "3.6.3"
  }
 },
 "nbformat": 4,
 "nbformat_minor": 2
}
